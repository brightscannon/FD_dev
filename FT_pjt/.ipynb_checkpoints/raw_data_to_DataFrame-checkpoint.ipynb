{
 "cells": [
  {
   "cell_type": "code",
   "execution_count": 16,
   "metadata": {
    "scrolled": false
   },
   "outputs": [
    {
     "data": {
      "text/html": [
       "<div>\n",
       "<style scoped>\n",
       "    .dataframe tbody tr th:only-of-type {\n",
       "        vertical-align: middle;\n",
       "    }\n",
       "\n",
       "    .dataframe tbody tr th {\n",
       "        vertical-align: top;\n",
       "    }\n",
       "\n",
       "    .dataframe thead th {\n",
       "        text-align: right;\n",
       "    }\n",
       "</style>\n",
       "<table border=\"1\" class=\"dataframe\">\n",
       "  <thead>\n",
       "    <tr style=\"text-align: right;\">\n",
       "      <th></th>\n",
       "      <th>0</th>\n",
       "    </tr>\n",
       "  </thead>\n",
       "  <tbody>\n",
       "    <tr>\n",
       "      <th>527078</th>\n",
       "      <td>[15:49:34-461259]H10162018021315493001KRDRVFUK...</td>\n",
       "    </tr>\n",
       "    <tr>\n",
       "      <th>527079</th>\n",
       "      <td>[15:49:34-478018]H10162018021315493001KRDRVFUK...</td>\n",
       "    </tr>\n",
       "    <tr>\n",
       "      <th>527080</th>\n",
       "      <td>[15:49:34-521285]H10162018021315493001KRDRVFUK...</td>\n",
       "    </tr>\n",
       "  </tbody>\n",
       "</table>\n",
       "</div>"
      ],
      "text/plain": [
       "                                                        0\n",
       "527078  [15:49:34-461259]H10162018021315493001KRDRVFUK...\n",
       "527079  [15:49:34-478018]H10162018021315493001KRDRVFUK...\n",
       "527080  [15:49:34-521285]H10162018021315493001KRDRVFUK..."
      ]
     },
     "execution_count": 16,
     "metadata": {},
     "output_type": "execute_result"
    }
   ],
   "source": [
    "\n",
    "data = pd.read_csv(\"CMDT0213.csv\",'r',parse_dates = True, header = None, encoding='ISO-8859-1')\n",
    "data.tail(3)"
   ]
  },
  {
   "cell_type": "code",
   "execution_count": 14,
   "metadata": {
    "scrolled": false
   },
   "outputs": [
    {
     "name": "stdout",
     "output_type": "stream",
     "text": [
      "Wall time: 35.8 s\n"
     ]
    }
   ],
   "source": [
    "%%time\n",
    "import time\n",
    "import re\n",
    "a = \"KR4167N30003\"\n",
    "#p = \"A0016.*BM3.{43}001\"\n",
    "#def code_filter(s):\n",
    "#    if re.findall(p,s):\n",
    "#            a.append(s[35:47])\n",
    "#data[0].apply(code_filter)\n",
    "#a = list(set(a))\n",
    "result = pd.DataFrame(columns = [\"시간\",\"현재가\",\"체결수량\",\"매도1호가\",\"매수1호가\",\"최종매도매수\",\"총잔량매도\",\"총잔량매수\"])\n",
    "def A3G7(s):\n",
    "    if (s[17:19] == \"A3\") and (s[22:34] == a):\n",
    "        result.loc[len(result)] =  {\"시간\" : s[:17], \"현재가\" : s[40:48], \"체결수량\" : s[48:54], \"매도1호가\" : None , \"매수1호가\" : None,  \"최종매도매수\" : s[152], \"총잔량매도\" : None, \"총잔량매수\" : None}\n",
    "    elif (s[17:19] == \"G7\") and (s[22:34] in a):\n",
    "        result.loc[len(result)] =  {\"시간\" : s[:17], \"현재가\" : s[40:48], \"체결수량\" : s[48:54], \"매도1호가\" :  s[243:251] , \"매수1호가\" :  s[161:169],  \"최종매도매수\" : s[152], \"총잔량매도\" :  s[235:242], \"총잔량매수\" :  s[155:160]}\n",
    "data[0].apply(A3G7)\n",
    "result"
   ]
  },
  {
   "cell_type": "code",
   "execution_count": 12,
   "metadata": {},
   "outputs": [
    {
     "name": "stdout",
     "output_type": "stream",
     "text": [
      "Wall time: 35.7 s\n"
     ]
    }
   ],
   "source": [
    "%%time\n",
    "import time\n",
    "import re\n",
    "a = \"KR4167N30003\"\n",
    "p = \"A0016.*BM3.{43}001\"\n",
    "#def code_filter(s):\n",
    "#    if re.findall(p,s):\n",
    "#            a.append(s[35:47])\n",
    "#data[0].apply(code_filter)\n",
    "#a = list(set(a))\n",
    "result = pd.DataFrame(columns = [\"시간\",\"현재가\",\"체결수량\",\"매도1호가\",\"매수1호가\",\"최종매도매수\",\"총잔량매도\",\"총잔량매수\"])\n",
    "def A3G7(s):\n",
    "    if (s[22:34] == a) and (s[17:19] == \"G7\" or s[17:19] == \"A3\"):\n",
    "        if s[17:19] == \"A3\":\n",
    "            result.loc[len(result)] =  {\"시간\" : s[:17], \"현재가\" : s[40:48], \"체결수량\" : s[48:54], \"매도1호가\" : None , \"매수1호가\" : None,  \"최종매도매수\" : s[152], \"총잔량매도\" : None, \"총잔량매수\" : None}\n",
    "        else:\n",
    "            result.loc[len(result)] =  {\"시간\" : s[:17], \"현재가\" : s[40:48], \"체결수량\" : s[48:54], \"매도1호가\" :  s[243:251] , \"매수1호가\" :  s[161:169],  \"최종매도매수\" : s[152], \"총잔량매도\" :  s[235:242], \"총잔량매수\" :  s[155:160]}\n",
    "data[0].apply(A3G7)\n",
    "result"
   ]
  },
  {
   "cell_type": "code",
   "execution_count": 5,
   "metadata": {},
   "outputs": [
    {
     "name": "stdout",
     "output_type": "stream",
     "text": [
      "Wall time: 20.5 ms\n"
     ]
    }
   ],
   "source": [
    "%%time\n",
    "result.loc[1:].to_csv(\"Data.csv\", encoding = \"ANSI\")"
   ]
  },
  {
   "cell_type": "markdown",
   "metadata": {},
   "source": [
    "## 1. 상품 선물 체결\n",
    "A3\n",
    "시간 : \n",
    "현재가 : 24~31, \n",
    "체결 수량 : 32 ~ 37\n",
    "매도 1호가\n",
    "매수 1호가\n",
    "최종 매도매수 : 136 / 1 매도 1 매수\n",
    "총잔량매도\n",
    "총잔량매수\n",
    "\n",
    "상품선물 체결 우선호가\n",
    "G7\n",
    "시간 : \n",
    "현재가 : 24~31, \n",
    "체결 수량 : 32 ~ 37\n",
    "매도 1호가 : 227 ~ 234\n",
    "매수 1호가 : 145 ~ 152\n",
    "최종 매도매수 : 136 / 1 매도 1 매수\n",
    "총잔량매도 : 219 ~ 225\n",
    "총잔량매수 : 137 ~ 143\n",
    "\n",
    "상품선물 종목정보 데이터\n",
    "A0\n",
    "시간 : \n",
    "현재가 : 24~31, \n",
    "체결 수량 : 32 ~ 37\n",
    "매도 1호가 : 227 ~ 234\n",
    "매수 1호가 : 145 ~ 152\n",
    "최종 매도매수 : 136 / 1 매도 1 매수\n",
    "총잔량매도 : 219 ~ 225\n",
    "총잔량매수 : 137 ~ 143\n",
    "\n"
   ]
  }
 ],
 "metadata": {
  "kernelspec": {
   "display_name": "Python 3",
   "language": "python",
   "name": "python3"
  },
  "language_info": {
   "codemirror_mode": {
    "name": "ipython",
    "version": 3
   },
   "file_extension": ".py",
   "mimetype": "text/x-python",
   "name": "python",
   "nbconvert_exporter": "python",
   "pygments_lexer": "ipython3",
   "version": "3.6.3"
  },
  "widgets": {
   "application/vnd.jupyter.widget-state+json": {
    "state": {},
    "version_major": 2,
    "version_minor": 0
   }
  }
 },
 "nbformat": 4,
 "nbformat_minor": 2
}
