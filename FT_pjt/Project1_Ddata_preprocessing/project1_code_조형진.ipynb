{
 "cells": [
  {
   "cell_type": "code",
   "execution_count": 2,
   "metadata": {},
   "outputs": [],
   "source": [
    "import re"
   ]
  },
  {
   "cell_type": "code",
   "execution_count": 3,
   "metadata": {},
   "outputs": [],
   "source": [
    "def isTargetProduct(text):\n",
    "    return text[17:22] == 'A0016' and text[425:428] == 'BM3' and text[471:474] == '001'\n",
    "def getA3OutputText(text):\n",
    "    return text[:17] + ',' + str(int(text[40:48])) + ',' + str(int(text[48:54])) + ',,,' + text[152] + ',,\\n'\n",
    "def getG7OutputText(text):\n",
    "    return (text[:17] + ',' + str(int(text[40:48])) + ',' \n",
    "            + str(int(text[48:54])) + ',' + str(int(text[242:251])) \n",
    "            + ',' + str(int(text[160:169])) + ',' + text[152] + ','\n",
    "            + str(int(text[235:242])) + ',' + str(int(text[153:161])) + '\\n')"
   ]
  },
  {
   "cell_type": "code",
   "execution_count": 6,
   "metadata": {},
   "outputs": [
    {
     "name": "stdout",
     "output_type": "stream",
     "text": [
      "Wall time: 977 ms\n"
     ]
    }
   ],
   "source": [
    "%%time\n",
    "read_file = \"D:/FinanceData_raw/raw_data_set/sise2local.ALL_CMDT.0213\"\n",
    "product_id = ''\n",
    "outputText = '시간, 현재가, 채결수량, 매도1호가, 매수1호가, 최종매도매수, 총잔량매도, 총잔량매수\\n'\n",
    "output_file = 'temp.csv'\n",
    "with open(read_file, 'r', encoding = 'ISO-8859-1') as fin, open(output_file,'w') as fout:\n",
    "    while not product_id:\n",
    "        text = fin.readline()\n",
    "        if isTargetProduct(text):\n",
    "            product_id = text[35:47]\n",
    "            date = text[27:35]\n",
    "            write_file =product_id + '_' + date + '.csv'\n",
    "    fout.write(outputText)\n",
    "    for text in fin.readlines():\n",
    "        board_id = text[17:19]\n",
    "        if board_id == 'A3' and re.search(product_id, text):\n",
    "            outputText = getA3OutputText(text)\n",
    "            fout.write(outputText)\n",
    "        elif board_id == 'G7' and re.search(product_id, text):\n",
    "            outputText = getG7OutputText(text)\n",
    "            fout.write(outputText)\n",
    "                    \n",
    "with open(output_file, 'r') as fin, open(write_file, 'w') as fout:\n",
    "    fout.write(fin.readline())\n",
    "    fin.readline()\n",
    "    for txt in fin.readlines():\n",
    "        fout.write(txt)"
   ]
  },
  {
   "cell_type": "code",
   "execution_count": null,
   "metadata": {
    "collapsed": true
   },
   "outputs": [],
   "source": []
  }
 ],
 "metadata": {
  "kernelspec": {
   "display_name": "Python 3",
   "language": "python",
   "name": "python3"
  },
  "language_info": {
   "codemirror_mode": {
    "name": "ipython",
    "version": 3
   },
   "file_extension": ".py",
   "mimetype": "text/x-python",
   "name": "python",
   "nbconvert_exporter": "python",
   "pygments_lexer": "ipython3",
   "version": "3.6.3"
  }
 },
 "nbformat": 4,
 "nbformat_minor": 2
}
